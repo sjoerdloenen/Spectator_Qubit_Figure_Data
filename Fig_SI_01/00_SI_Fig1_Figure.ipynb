{
 "cells": [
  {
   "cell_type": "markdown",
   "id": "aed120ef-de95-4bc1-9d30-926af4139f11",
   "metadata": {},
   "source": [
    "# SI figure 1"
   ]
  },
  {
   "cell_type": "code",
   "execution_count": 1,
   "id": "7d0dae15-ef83-45c8-be70-94d0ff239f1f",
   "metadata": {},
   "outputs": [],
   "source": [
    "# import general packages\n",
    "import numpy as np\n",
    "import os\n",
    "import dill as pickle\n",
    "pickle.settings['recurse'] = True\n",
    "\n",
    "# Matplotlib\n",
    "from matplotlib import pyplot as plt\n",
    "from matplotlib import cm\n",
    "from matplotlib.gridspec import GridSpec\n",
    "\n",
    "# Import functions\n",
    "%matplotlib inline"
   ]
  },
  {
   "cell_type": "markdown",
   "id": "5630f26a-a543-4f1f-ac50-9798484a5aec",
   "metadata": {},
   "source": [
    "# Plotting params"
   ]
  },
  {
   "cell_type": "code",
   "execution_count": 2,
   "id": "ca1ce0ac-3c57-4e0b-80fe-95275438abf3",
   "metadata": {},
   "outputs": [],
   "source": [
    "axes_color =  '0.8'\n",
    "\n",
    "plt.rcParams.update({'font.size': 9,\n",
    "                     'font.family': 'sans-serif',\n",
    "                     'font.sans-serif' : 'Helvetica',\n",
    "                     'font.style':'normal',\n",
    "                     'axes.grid' : False,\n",
    "                     'axes.edgecolor': axes_color,\n",
    "                     'ytick.color': '.15',\n",
    "                     'xtick.color':'.15',\n",
    "                     'lines.linewidth':1,\n",
    "                    })\n",
    "\n",
    "ytick_major_size = 3.5\n",
    "plt.rcParams['ytick.major.size'] = ytick_major_size\n",
    "plt.rcParams['ytick.major.width'] = 0.8\n",
    "\n",
    "xtick_major_size = 3.5\n",
    "plt.rcParams['xtick.major.size'] = xtick_major_size\n",
    "plt.rcParams['xtick.major.width'] = 0.8\n",
    "plt.rcParams['lines.markersize'] = 2.5\n",
    "\n",
    "plt.rcParams['errorbar.capsize'] = 1.5\n",
    "plt.rcParams['lines.markeredgewidth'] = 0.5\n",
    "\n",
    "\n",
    "linewidth_default = plt.rcParams['lines.linewidth']\n",
    "markersize_default = plt.rcParams['lines.markersize']\n",
    "elinewidht_default = plt.rcParams['lines.markeredgewidth']\n",
    "capsize_default = plt.rcParams['errorbar.capsize']\n",
    "markeredgewidth_default = plt.rcParams['lines.markeredgewidth']\n"
   ]
  },
  {
   "cell_type": "markdown",
   "id": "35e4d602-1031-4c24-b9bf-b1754b6fcfa2",
   "metadata": {},
   "source": [
    "# Define the analytical functions to be plotted"
   ]
  },
  {
   "cell_type": "code",
   "execution_count": 3,
   "id": "e90d6167-15aa-4ea4-8e72-1089f007923e",
   "metadata": {},
   "outputs": [],
   "source": [
    "def PNspec0(theta, sigma):\n",
    "    return 1./(sigma*np.sqrt(2*np.pi)) * np.exp(-1./2 * theta**2 / sigma**2)\n",
    "\n",
    "def Holevo0Nspec0(phi, sigma):\n",
    "    return 1./2*np.exp(-sigma**2) * ( np.cosh(1./2*sigma**2) +  np.cosh(sigma**2 + 1j*phi) + np.sinh(1./2*sigma**2) )\n",
    "\n",
    "def Holevo1Nspec0(phi, sigma):\n",
    "    return 1./2*np.exp(-sigma**2) * ( np.cosh(1./2*sigma**2) -  np.cosh(sigma**2 + 1j*phi) + np.sinh(1./2*sigma**2) )\n",
    "\n",
    "def absHolevoNspec0(phi,sigma):\n",
    "    return np.abs( Holevo0Nspec0(phi,sigma) ) + np.abs( Holevo1Nspec0(phi,sigma) )\n",
    "\n",
    "\n",
    "\n",
    "def PNspec1(theta, sigma):\n",
    "    return 1./(sigma*np.sqrt(2*np.pi)) * np.exp(-1./2 * theta**2/sigma**2) * (1 + np.cos(theta - np.pi/2))\n",
    "\n",
    "def Holevo0Nspec1(phi, sigma):\n",
    "    return 1./8 * (2*1j - 2*1j*np.exp(-2*sigma**2) + 4*np.exp(-1./2*sigma**2) + 2*np.exp(1j*phi) + np.exp(-9./2 * sigma**2 - 1j*phi)*( -1j + 2*np.exp(5./2*sigma**2) + 1j*np.exp(4*sigma**2) ) )\n",
    "    \n",
    "def Holevo1Nspec1(phi, sigma):\n",
    "    return 1./8 * (2*1j - 2*1j*np.exp(-2*sigma**2) + 4*np.exp(-1./2*sigma**2) - 2*np.exp(1j*phi) - 1j*np.exp(-9./2 * sigma**2 - 1j*phi)*( -1 - 2*1j*np.exp(5./2*sigma**2) + np.exp(4*sigma**2) ) )\n",
    "\n",
    "def absHolevoNspec1(phi,sigma):\n",
    "    return np.abs( Holevo0Nspec1(phi,sigma) ) + np.abs( Holevo1Nspec1(phi,sigma) )\n",
    "\n",
    "def PNspec0Exp(sigma):\n",
    "    return np.arctan2( 0, np.exp(-1./2*sigma**2) )\n",
    "\n",
    "def PNspec1Exp(sigma):\n",
    "    return np.arctan2( np.exp(-sigma**2) * np.sinh(sigma**2), np.exp(-1./2 * sigma**2) )"
   ]
  },
  {
   "cell_type": "markdown",
   "id": "fdc844bc-dfc7-4620-bd0b-78c4c3dbafbb",
   "metadata": {},
   "source": [
    "# Generate the figure"
   ]
  },
  {
   "cell_type": "code",
   "execution_count": 4,
   "id": "403d5e85-39e0-4ab5-9aa5-6e935656c944",
   "metadata": {},
   "outputs": [
    {
     "data": {
      "image/png": "[encoded data removed]",
      "text/plain": [
       "<Figure size 720.472x233.596 with 4 Axes>"
      ]
     },
     "metadata": {},
     "output_type": "display_data"
    }
   ],
   "source": [
    "# Define the figure, gridspec and sub-gridspec. From these gridspecs, define the plot axes.\n",
    "fig_multiplier = 1\n",
    "fig = plt.figure(figsize = [18.3/2.54*1*fig_multiplier,8.9/2.54/1.5*fig_multiplier]) # ,constrained_layout=True)\n",
    "\n",
    "gs = GridSpec(1, 15, figure=fig)#, hspace = 0.1, wspace = 0.1)\n",
    "ax = fig.add_subplot(gs[0,4:11])\n",
    "ax_dummy1 = fig.add_subplot(gs[0,0])\n",
    "ax_dummy2 = fig.add_subplot(gs[0,11:14])\n",
    "ax_dummy3 = fig.add_subplot(gs[0,14])\n",
    "\n",
    "\n",
    "N_phi_points = 1000\n",
    "sigma = 1\n",
    "colors = cm.Blues(np.linspace(0.3,1,2))\n",
    "\n",
    "phi_pi = np.linspace(-1, 1, N_phi_points)\n",
    "\n",
    "P_Nspec0 = PNspec0(phi_pi*np.pi, sigma)\n",
    "H_Nspec0 = absHolevoNspec0(phi_pi*np.pi, sigma)\n",
    "P_Nspec1 = PNspec1(phi_pi*np.pi, sigma)\n",
    "H_Nspec1 = absHolevoNspec1(phi_pi*np.pi, sigma)\n",
    "\n",
    "phi_pi_H_Nspec1_max = phi_pi[ np.argmax(H_Nspec1[:int(N_phi_points/2)]) ]\n",
    "\n",
    "spec0_color = colors[0]\n",
    "spec1_color = colors[1]\n",
    "dash_len = 2.5*fig_multiplier\n",
    "space = 5*fig_multiplier\n",
    "ax.plot(phi_pi, P_Nspec0, label = r'$\\mathrm{P_{0}(\\phi)}$', color = spec0_color, linestyle = '--', dashes=(6*dash_len, space), linewidth = linewidth_default*fig_multiplier)\n",
    "ax.plot(phi_pi, H_Nspec0, label = r'$\\mathrm{Holevo_{0}}$', color = spec0_color, linewidth = 1*fig_multiplier)\n",
    "ax.plot(phi_pi, P_Nspec1, label = r'$\\mathrm{P_{1}(\\phi)}$', color = spec1_color, linestyle = '--', dashes=(6*dash_len, space), linewidth = linewidth_default*fig_multiplier)\n",
    "ax.plot(phi_pi, H_Nspec1, label = r'$\\mathrm{Holevo_{1}}$', color = spec1_color, linewidth = 1*fig_multiplier)\n",
    "\n",
    "dash_len = 5*fig_multiplier\n",
    "space = 10*fig_multiplier\n",
    "ax.axvline(x = 1./np.pi * PNspec0Exp(sigma) - 1./2, color = spec0_color, linestyle = '--', dashes=(6*dash_len, space), linewidth = linewidth_default*fig_multiplier)\n",
    "ax.axvline(x = 1./np.pi * PNspec1Exp(sigma) - 1./2, color = spec1_color, dashes=(6*dash_len, space), linewidth = linewidth_default*fig_multiplier)\n",
    "ax.axvline(x = phi_pi_H_Nspec1_max, color = spec1_color, dashes=(dash_len, 1./2*space), linewidth = linewidth_default*fig_multiplier)\n",
    "ax.axvline(x = 0, color = 'k', alpha = 0.2, linewidth = 0.5*fig_multiplier)\n",
    "ax.spines['top'].set_visible(False)\n",
    "ax.spines['right'].set_visible(False)\n",
    "\n",
    "# ax.legend()# bbox_to_anchor = [1,0.8] )\n",
    "ax.set_ylim([0,1])\n",
    "ax.set_xlabel(r'$\\mathrm{ \\phi(\\pi \\, rad) } $')\n",
    "# ax.set_ylabel(r'A.U.')\n",
    "\n",
    "ax_dummy2.plot([0,1], [0,0], label = r'$\\mathrm{P_{0}(\\phi)}$', color = spec0_color, linestyle = '--', linewidth = linewidth_default*fig_multiplier)\n",
    "ax_dummy2.plot([0,1], [0,0], label = r'$\\mathrm{Holevo_{0}}$', color = spec0_color, linewidth = linewidth_default*fig_multiplier)\n",
    "ax_dummy2.plot([0,1], [0,0], label = r'$\\mathrm{P_{1}(\\phi)}$', color = spec1_color, linestyle = '--', linewidth =linewidth_default*fig_multiplier)\n",
    "ax_dummy2.plot([0,1], [0,0], label = r'$\\mathrm{Holevo_{1}}$', color = spec1_color, linewidth = linewidth_default*fig_multiplier)\n",
    "ax_dummy2.legend()\n",
    "ax_dummy2.set_ylim([0.5,1])\n",
    "\n",
    "plt.tight_layout()\n",
    "\n",
    "# FolderPath = r'...' \n",
    "# FigName = 'SI_Fig1.pdf'\n",
    "# FigSavePath = os.path.join(FolderPath,FigName)\n",
    "\n",
    "# plt.savefig(FigSavePath, bbox_inches='tight')# , transparent=True)\n"
   ]
  },
  {
   "cell_type": "code",
   "execution_count": null,
   "id": "f7e00082-e0fd-47fb-9692-4c574a902b5e",
   "metadata": {},
   "outputs": [],
   "source": []
  }
 ],
 "metadata": {
  "kernelspec": {
   "display_name": ".venv",
   "language": "python",
   "name": "python3"
  },
  "language_info": {
   "codemirror_mode": {
    "name": "ipython",
    "version": 3
   },
   "file_extension": ".py",
   "mimetype": "text/x-python",
   "name": "python",
   "nbconvert_exporter": "python",
   "pygments_lexer": "ipython3",
   "version": "3.13.2"
  }
 },
 "nbformat": 4,
 "nbformat_minor": 5
}
