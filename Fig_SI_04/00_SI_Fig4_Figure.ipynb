{
 "cells": [
  {
   "cell_type": "markdown",
   "id": "37bb3b11-5a34-40b1-95f4-aa6e0d876eb5",
   "metadata": {},
   "source": [
    "# SI figure 4"
   ]
  },
  {
   "cell_type": "code",
   "execution_count": 1,
   "id": "b4daed65",
   "metadata": {},
   "outputs": [],
   "source": [
    "# import general packages\n",
    "import numpy as np\n",
    "import os\n",
    "import dill as pickle\n",
    "pickle.settings['recurse'] = True\n",
    "\n",
    "# Matplotlib\n",
    "from matplotlib import pyplot as plt\n",
    "from matplotlib import cm\n",
    "from matplotlib.gridspec import GridSpec\n",
    "%matplotlib inline\n",
    "%load_ext autoreload\n",
    "%autoreload 2\n",
    "\n",
    "plt.style.use('default')\n",
    "\n",
    "import dill as pickle\n",
    "pickle.settings['recurse'] = True\n",
    "\n",
    "# Import functions\n",
    "%matplotlib inline"
   ]
  },
  {
   "cell_type": "markdown",
   "id": "4b05111c",
   "metadata": {},
   "source": [
    "# Plotting params"
   ]
  },
  {
   "cell_type": "code",
   "execution_count": 2,
   "id": "005abad0",
   "metadata": {},
   "outputs": [],
   "source": [
    "axes_color =  '0.8'\n",
    "\n",
    "plt.rcParams.update({'font.size': 9,\n",
    "                     'font.family': 'sans-serif',\n",
    "                     'font.sans-serif' : 'Helvetica',\n",
    "                     'font.style':'normal',\n",
    "                     'axes.grid' : False,\n",
    "                     'axes.edgecolor': axes_color,\n",
    "                     'ytick.color': '.15',\n",
    "                     'xtick.color':'.15',\n",
    "                     'lines.linewidth':1,\n",
    "                    })\n",
    "\n",
    "ytick_major_size = 3.5\n",
    "plt.rcParams['ytick.major.size'] = ytick_major_size\n",
    "plt.rcParams['ytick.major.width'] = 0.8\n",
    "\n",
    "xtick_major_size = 3.5\n",
    "plt.rcParams['xtick.major.size'] = xtick_major_size\n",
    "plt.rcParams['xtick.major.width'] = 0.8\n",
    "plt.rcParams['lines.markersize'] = 2.5\n",
    "\n",
    "plt.rcParams['errorbar.capsize'] = 1.5\n",
    "plt.rcParams['lines.markeredgewidth'] = 0.5\n",
    "\n",
    "\n",
    "linewidth_default = plt.rcParams['lines.linewidth']\n",
    "markersize_default = plt.rcParams['lines.markersize']\n",
    "elinewidht_default = plt.rcParams['lines.markeredgewidth']\n",
    "capsize_default = plt.rcParams['errorbar.capsize']\n",
    "markeredgewidth_default = plt.rcParams['lines.markeredgewidth']\n"
   ]
  },
  {
   "cell_type": "markdown",
   "id": "c726193a",
   "metadata": {},
   "source": [
    "# Function to load data"
   ]
  },
  {
   "cell_type": "code",
   "execution_count": 3,
   "id": "7ed13947",
   "metadata": {},
   "outputs": [],
   "source": [
    "def data_dict_from_pkl(DataName):\n",
    "    FolderPath = os.getcwd()\n",
    "    DataFilePath = os.path.join(FolderPath,DataName)\n",
    "    \n",
    "    DataFile = open(DataFilePath, 'rb')\n",
    "    Data = pickle.load(DataFile, encoding = 'latin1')\n",
    "    DataFile.close()\n",
    "\n",
    "    return Data"
   ]
  },
  {
   "cell_type": "markdown",
   "id": "d8841afc",
   "metadata": {},
   "source": [
    "# Load the data"
   ]
  },
  {
   "cell_type": "code",
   "execution_count": 4,
   "id": "30d8d7bd",
   "metadata": {},
   "outputs": [],
   "source": [
    "repump_data = data_dict_from_pkl('SI_fig4_data.pkl')"
   ]
  },
  {
   "cell_type": "markdown",
   "id": "5df571c7",
   "metadata": {},
   "source": [
    "# Generate the plot from the data"
   ]
  },
  {
   "cell_type": "code",
   "execution_count": 5,
   "id": "18c2e4c5",
   "metadata": {},
   "outputs": [
    {
     "data": {
      "image/png": "[encoded data removed]",
      "text/plain": [
       "<Figure size 720.472x175.197 with 2 Axes>"
      ]
     },
     "metadata": {},
     "output_type": "display_data"
    }
   ],
   "source": [
    "fig_multiplier = 1\n",
    "fig = plt.figure(figsize = [18.3/2.54*1*fig_multiplier,8.9/2.54/2*fig_multiplier])#,constrained_layout=True)\n",
    "\n",
    "gs = GridSpec(1, 3, figure=fig)#, hspace = 2)#, hspace = 1, wspace = 0.1)\n",
    "ax0 = fig.add_subplot(gs[0,0])\n",
    "ax1 = fig.add_subplot(gs[0,2])\n",
    "\n",
    "color_list = cm.Blues(np.linspace(0.75,1,1)) # ['k','r','b']\n",
    "\n",
    "t = repump_data['t']\n",
    "F = repump_data['F']\n",
    "Ferr = repump_data['Ferr']\n",
    "t_fit = repump_data['x_fit']\n",
    "F_fit = repump_data['y_fit']\n",
    "\n",
    "ax1.errorbar(t, F, Ferr, color = color_list[0], linestyle = 'none', marker = 'o', \\\n",
    "                   markersize = markersize_default*fig_multiplier, elinewidth = elinewidht_default*fig_multiplier, capsize = capsize_default*fig_multiplier, markeredgewidth = markeredgewidth_default*fig_multiplier)\n",
    "ax1.plot(t_fit, F_fit, color = color_list[0], linewidth = linewidth_default*fig_multiplier)\n",
    "\n",
    "ax1.set_xlabel(r'$\\mathrm{t_{i} \\, (\\mu s)}$')\n",
    "ax1.set_ylabel(r'$F(|1\\rangle)$')\n",
    "ax1.set_ylim([0,1.05])\n",
    "ax1.spines['right'].set_visible(False)\n",
    "ax1.spines['top'].set_visible(False)\n",
    "\n",
    "plt.tight_layout()\n",
    "\n",
    "# FolderPath = r'...' \n",
    "# FigName = 'SI_Fig4.pdf'\n",
    "# FigSavePath = os.path.join(FolderPath,FigName)\n",
    "\n",
    "# plt.savefig(FigSavePath, bbox_inches='tight')# , transparent=True)"
   ]
  },
  {
   "cell_type": "code",
   "execution_count": null,
   "id": "74f5aa42",
   "metadata": {},
   "outputs": [],
   "source": []
  }
 ],
 "metadata": {
  "kernelspec": {
   "display_name": ".venv",
   "language": "python",
   "name": "python3"
  },
  "language_info": {
   "codemirror_mode": {
    "name": "ipython",
    "version": 3
   },
   "file_extension": ".py",
   "mimetype": "text/x-python",
   "name": "python",
   "nbconvert_exporter": "python",
   "pygments_lexer": "ipython3",
   "version": "3.13.2"
  }
 },
 "nbformat": 4,
 "nbformat_minor": 5
}
