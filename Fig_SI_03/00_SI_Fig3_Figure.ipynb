{
 "cells": [
  {
   "cell_type": "markdown",
   "id": "da82a999-84a9-4ac8-ab4a-9f93bdf71043",
   "metadata": {},
   "source": [
    "# SI Figure 3"
   ]
  },
  {
   "cell_type": "code",
   "execution_count": 1,
   "id": "2069d7d2-6484-42f0-90d4-41d4df78cd20",
   "metadata": {},
   "outputs": [],
   "source": [
    "# import general packages\n",
    "import numpy as np\n",
    "import sys\n",
    "import os\n",
    "import dill as pickle\n",
    "pickle.settings['recurse'] = True\n",
    "\n",
    "# Matplotlib\n",
    "from matplotlib import pyplot as plt\n",
    "from matplotlib import cm\n",
    "from matplotlib.gridspec import GridSpec\n",
    "\n",
    "%matplotlib inline"
   ]
  },
  {
   "cell_type": "markdown",
   "id": "92313d7e-cb56-4450-8eda-173d4ab8a085",
   "metadata": {},
   "source": [
    "# Plotting params"
   ]
  },
  {
   "cell_type": "code",
   "execution_count": 2,
   "id": "2c3a63a2-d492-4054-965f-b2c3576fb3dd",
   "metadata": {},
   "outputs": [],
   "source": [
    "axes_color =  '0.8'\n",
    "\n",
    "plt.rcParams.update({'font.size': 7,\n",
    "                     'font.family': 'sans-serif',\n",
    "                     'font.sans-serif' : 'Helvetica',\n",
    "                     'font.style':'normal',\n",
    "                     'axes.grid' : False,\n",
    "                     'axes.edgecolor': axes_color,\n",
    "                     'ytick.color': '.15',\n",
    "                     'xtick.color':'.15',\n",
    "                     'lines.linewidth':1.5,\n",
    "                    })\n",
    "\n",
    "ytick_major_size = 3.5\n",
    "plt.rcParams['ytick.major.size'] = ytick_major_size\n",
    "plt.rcParams['ytick.major.width'] = 0.8\n",
    "\n",
    "xtick_major_size = 3.5\n",
    "plt.rcParams['xtick.major.size'] = xtick_major_size\n",
    "plt.rcParams['xtick.major.width'] = 0.8\n",
    "plt.rcParams['lines.markersize'] = 4"
   ]
  },
  {
   "cell_type": "markdown",
   "id": "4927d65e-1c61-4ee8-b974-ed8e5c0f9275",
   "metadata": {},
   "source": [
    "# Function to load data"
   ]
  },
  {
   "cell_type": "code",
   "execution_count": 3,
   "id": "91836a31-d942-4ccd-bb89-3e5a4d07e408",
   "metadata": {},
   "outputs": [],
   "source": [
    "def data_dict_from_pkl(DataName):\n",
    "    FolderPath = FolderPath = os.getcwd()\n",
    "    DataFilePath = os.path.join(FolderPath,DataName)\n",
    "    \n",
    "    DataFile = open(DataFilePath, 'rb')\n",
    "    Data = pickle.load(DataFile, encoding = 'latin1')\n",
    "    DataFile.close()\n",
    "\n",
    "    return Data"
   ]
  },
  {
   "cell_type": "markdown",
   "id": "0eafdf15-45e3-4aa0-b3eb-84f9ea0483d7",
   "metadata": {},
   "source": [
    "# Load the data"
   ]
  },
  {
   "cell_type": "code",
   "execution_count": 4,
   "id": "c6b92f52-d0e0-44f1-9402-3087abc9b74b",
   "metadata": {},
   "outputs": [],
   "source": [
    "data_dict = data_dict_from_pkl('SI_Fig3_data.pkl')"
   ]
  },
  {
   "cell_type": "markdown",
   "id": "a7b069a2-f1ce-4336-8cd9-17b7062b7e0a",
   "metadata": {},
   "source": [
    "# Define a function to generate the plotlabels used in the plot"
   ]
  },
  {
   "cell_type": "code",
   "execution_count": 5,
   "id": "454a342a-202a-4b1a-b924-4d597a4389e4",
   "metadata": {},
   "outputs": [],
   "source": [
    "def general_msmt_label_gen(N_spectator_init, N_spectator_RO):\n",
    "\n",
    "    str_init = 'Init: '\n",
    "    for i in range(N_spectator_init+1):\n",
    "        if i == 0:\n",
    "            str_init_add = 'm, '\n",
    "        else: \n",
    "            str_init_add = 's' + str(i) + ', '\n",
    "        str_init = str_init + str_init_add\n",
    "    str_init = str_init[:-2]\n",
    "\n",
    "    str_RO = '. RO: '\n",
    "    for j in range(N_spectator_RO+1):\n",
    "        i = N_spectator_RO - j\n",
    "        if i == 0:\n",
    "            str_RO_add = 'm, '\n",
    "        else:\n",
    "            str_RO_add = 's' + str(i) + ', '\n",
    "        str_RO = str_RO + str_RO_add\n",
    "    str_RO = str_RO[:-2]\n",
    "\n",
    "    label = str_init + str_RO\n",
    "\n",
    "    return label"
   ]
  },
  {
   "cell_type": "markdown",
   "id": "7a058829-4695-4800-921c-2ae9c4cbd778",
   "metadata": {},
   "source": [
    "# Generate the plot from the data"
   ]
  },
  {
   "cell_type": "code",
   "execution_count": 6,
   "id": "6e2c3ea1-4d17-4483-a7b6-26d9355e0c96",
   "metadata": {},
   "outputs": [
    {
     "data": {
      "image/png": "[encoded data removed]",
      "text/plain": [
       "<Figure size 720.472x233.596 with 3 Axes>"
      ]
     },
     "metadata": {},
     "output_type": "display_data"
    }
   ],
   "source": [
    "# Define the figure, gridspec and sub-gridspec. From these gridspecs, define the plot axes.\n",
    "fig_multiplier = 1\n",
    "fig = plt.figure(figsize = [18.3/2.54*1*fig_multiplier,8.9/2.54/1.5*fig_multiplier]) # ,constrained_layout=True)\n",
    "\n",
    "gs = GridSpec(1, 5, figure=fig)#, hspace = 0.1, wspace = 0.1)\n",
    "ax = fig.add_subplot(gs[0,1:4])\n",
    "ax_dummy1 = fig.add_subplot(gs[0,0])\n",
    "ax_dummy2 = fig.add_subplot(gs[0,4])\n",
    "\n",
    "\n",
    "N_spectators = data_dict['N_spectators']\n",
    "\n",
    "y_lim_max = 0\n",
    "\n",
    "color_list_figSI2 = cm.Blues(np.linspace(0.2,1,N_spectators+1))\n",
    "color_init_dict = {}\n",
    "for i in range(N_spectators+1):\n",
    "    color_init_dict[i] = color_list_figSI2[i]\n",
    "marker_RO_dict = {0: 'o', 1: 'D', 2: '*'}\n",
    "\n",
    "scheme = 'msmt'\n",
    "for N_spectator_init in list(np.arange(N_spectators+1)): \n",
    "    for N_spectator_RO in list(np.arange(N_spectator_init+1)): \n",
    "\n",
    "        x = np.array(data_dict['experiment'][scheme][N_spectator_init][N_spectator_RO]['x'])\n",
    "        y = np.array(data_dict['experiment'][scheme][N_spectator_init][N_spectator_RO]['y'])\n",
    "        y = 1./2 + 1./2*y\n",
    "        yerr = np.array(data_dict['experiment'][scheme][N_spectator_init][N_spectator_RO]['yerr'])\n",
    "        yerr = 1./2*yerr\n",
    "        y_norm = np.array(data_dict['experiment'][scheme][N_spectator_init][N_spectator_RO]['y_norm'])\n",
    "        yerr_norm = np.array(data_dict['experiment'][scheme][N_spectator_init][N_spectator_RO]['yerr_norm'])\n",
    "        C_RO_str = data_dict['experiment'][scheme][N_spectator_init][N_spectator_RO]['C_RO_str']\n",
    "        \n",
    "\n",
    "        label = general_msmt_label_gen(N_spectator_init, N_spectator_RO)\n",
    "        color = color_init_dict[N_spectator_init]\n",
    "        marker = marker_RO_dict[N_spectator_RO]\n",
    "        markersize = 5*fig_multiplier if marker != '*' else 8*fig_multiplier\n",
    "        ax.errorbar(x,y,yerr, color = color, marker = marker, linestyle = '', label = label, \\\n",
    "                    markersize = markersize, elinewidth = 0.5*fig_multiplier, capsize = 2.5*fig_multiplier, markeredgewidth = 0.5*fig_multiplier)\n",
    "\n",
    "        y_lim_max = np.max(y) if np.max(y) > y_lim_max else y_lim_max\n",
    "        \n",
    "\n",
    "carbon_list = data_dict['carbon_list']\n",
    "plot_title = 'Data and '+str(N_spectators)+' spectator(s): ' + ''.join(['C'+str(C)+', ' for C in carbon_list[:N_spectators+1]])[:-2]+'.' \n",
    "ax.set_ylabel(r'F')\n",
    "ax.set_xlabel(r'$\\mathrm{N_{REA}}$')\n",
    "ax.set_ylim([0.75,1.05*y_lim_max])\n",
    "ax.set_xlim([-3,np.max(x)+3])\n",
    "# ax.axvline(x=0, color = 'k', linestyle = '--', alpha = 0.3)\n",
    "ax.legend()#fontsize = 3.5, loc = 'upper right')#fontsize = 12)    \n",
    "\n",
    "ax.set_xlim([-1,21])\n",
    "ax.set_ylim([0.76,1.02*y_lim_max])\n",
    "\n",
    "ax.spines['right'].set_visible(False)\n",
    "ax.spines['top'].set_visible(False)\n",
    "\n",
    "\n",
    "\n",
    "\n",
    "plt.tight_layout()\n",
    "\n",
    "# FolderPath = r'' \n",
    "# FigName = 'SI_Fig3.pdf'\n",
    "# FigSavePath = os.path.join(FolderPath,FigName)\n",
    "\n",
    "# plt.savefig(FigSavePath, bbox_inches='tight')# , transparent=True)\n"
   ]
  }
 ],
 "metadata": {
  "kernelspec": {
   "display_name": ".venv",
   "language": "python",
   "name": "python3"
  },
  "language_info": {
   "codemirror_mode": {
    "name": "ipython",
    "version": 3
   },
   "file_extension": ".py",
   "mimetype": "text/x-python",
   "name": "python",
   "nbconvert_exporter": "python",
   "pygments_lexer": "ipython3",
   "version": "3.13.2"
  }
 },
 "nbformat": 4,
 "nbformat_minor": 5
}
